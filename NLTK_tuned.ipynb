{
  "nbformat": 4,
  "nbformat_minor": 0,
  "metadata": {
    "colab": {
      "provenance": [],
      "authorship_tag": "ABX9TyOzdvZkSkBo48uvtmS88kfx",
      "include_colab_link": true
    },
    "kernelspec": {
      "name": "python3",
      "display_name": "Python 3"
    },
    "language_info": {
      "name": "python"
    }
  },
  "cells": [
    {
      "cell_type": "markdown",
      "metadata": {
        "id": "view-in-github",
        "colab_type": "text"
      },
      "source": [
        "<a href=\"https://colab.research.google.com/github/imsachinsingh00/Named-Entity-Regonization/blob/main/NLTK_tuned.ipynb\" target=\"_parent\"><img src=\"https://colab.research.google.com/assets/colab-badge.svg\" alt=\"Open In Colab\"/></a>"
      ]
    },
    {
      "cell_type": "markdown",
      "source": [
        "# Importing the required dependencies"
      ],
      "metadata": {
        "id": "7iE1RxA73p3Q"
      }
    },
    {
      "cell_type": "code",
      "execution_count": 1,
      "metadata": {
        "colab": {
          "base_uri": "https://localhost:8080/"
        },
        "id": "CHtiO2Ix2gyF",
        "outputId": "d84fd9cc-ad29-44b9-c7d5-37573a045a7e"
      },
      "outputs": [
        {
          "output_type": "stream",
          "name": "stdout",
          "text": [
            "Traceback (most recent call last):\n",
            "  File \"/usr/local/bin/pip3\", line 5, in <module>\n",
            "    from pip._internal.cli.main import main\n",
            "  File \"/usr/local/lib/python3.10/dist-packages/pip/_internal/cli/main.py\", line 9, in <module>\n",
            "    from pip._internal.cli.autocompletion import autocomplete\n",
            "  File \"/usr/local/lib/python3.10/dist-packages/pip/_internal/cli/autocompletion.py\", line 10, in <module>\n",
            "    from pip._internal.cli.main_parser import create_main_parser\n",
            "  File \"/usr/local/lib/python3.10/dist-packages/pip/_internal/cli/main_parser.py\", line 9, in <module>\n",
            "    from pip._internal.build_env import get_runnable_pip\n",
            "  File \"/usr/local/lib/python3.10/dist-packages/pip/_internal/build_env.py\", line 19, in <module>\n",
            "    from pip._internal.cli.spinners import open_spinner\n",
            "  File \"/usr/local/lib/python3.10/dist-packages/pip/_internal/cli/spinners.py\", line 9, in <module>\n",
            "    from pip._internal.utils.logging import get_indentation\n",
            "  File \"/usr/local/lib/python3.10/dist-packages/pip/_internal/utils/logging.py\", line 29, in <module>\n",
            "    from pip._internal.utils.misc import ensure_dir\n",
            "  File \"/usr/local/lib/python3.10/dist-packages/pip/_internal/utils/misc.py\", line 42, in <module>\n",
            "    from pip._internal.exceptions import CommandError, ExternallyManagedEnvironment\n",
            "  File \"/usr/local/lib/python3.10/dist-packages/pip/_internal/exceptions.py\", line 18, in <module>\n",
            "    from pip._vendor.requests.models import Request, Response\n",
            "  File \"/usr/local/lib/python3.10/dist-packages/pip/_vendor/requests/__init__.py\", line 162, in <module>\n",
            "    from .api import delete, get, head, options, patch, post, put, request\n",
            "  File \"/usr/local/lib/python3.10/dist-packages/pip/_vendor/requests/api.py\", line 11, in <module>\n",
            "    from . import sessions\n",
            "  File \"/usr/local/lib/python3.10/dist-packages/pip/_vendor/requests/sessions.py\", line 15, in <module>\n",
            "    from .adapters import HTTPAdapter\n",
            "  File \"/usr/local/lib/python3.10/dist-packages/pip/_vendor/requests/adapters.py\", line 45, in <module>\n",
            "    from .models import Response\n",
            "  File \"<frozen importlib._bootstrap>\", line 1027, in _find_and_load\n",
            "  File \"<frozen importlib._bootstrap>\", line 1006, in _find_and_load_unlocked\n",
            "  File \"<frozen importlib._bootstrap>\", line 688, in _load_unlocked\n",
            "  File \"<frozen importlib._bootstrap_external>\", line 879, in exec_module\n",
            "  File \"<frozen importlib._bootstrap_external>\", line 1012, in get_code\n",
            "  File \"<frozen importlib._bootstrap_external>\", line 672, in _compile_bytecode\n",
            "KeyboardInterrupt\n",
            "^C\n",
            "Looking in indexes: https://pypi.org/simple, https://us-python.pkg.dev/colab-wheels/public/simple/\n",
            "Requirement already satisfied: psutil in /usr/local/lib/python3.10/dist-packages (5.9.5)\n",
            "Looking in indexes: https://pypi.org/simple, https://us-python.pkg.dev/colab-wheels/public/simple/\n",
            "Requirement already satisfied: GPUtil in /usr/local/lib/python3.10/dist-packages (1.4.0)\n",
            "Looking in indexes: https://pypi.org/simple, https://us-python.pkg.dev/colab-wheels/public/simple/\n",
            "Requirement already satisfied: PyPDF2 in /usr/local/lib/python3.10/dist-packages (3.0.1)\n"
          ]
        },
        {
          "output_type": "stream",
          "name": "stderr",
          "text": [
            "[nltk_data] Downloading package conll2002 to /root/nltk_data...\n",
            "[nltk_data]   Package conll2002 is already up-to-date!\n",
            "[nltk_data] Downloading package averaged_perceptron_tagger to\n",
            "[nltk_data]     /root/nltk_data...\n",
            "[nltk_data]   Package averaged_perceptron_tagger is already up-to-\n",
            "[nltk_data]       date!\n",
            "[nltk_data] Downloading package punkt to /root/nltk_data...\n",
            "[nltk_data]   Package punkt is already up-to-date!\n",
            "[nltk_data] Downloading package stopwords to /root/nltk_data...\n",
            "[nltk_data]   Package stopwords is already up-to-date!\n",
            "[nltk_data] Downloading package maxent_ne_chunker to\n",
            "[nltk_data]     /root/nltk_data...\n",
            "[nltk_data]   Package maxent_ne_chunker is already up-to-date!\n",
            "[nltk_data] Downloading package words to /root/nltk_data...\n",
            "[nltk_data]   Package words is already up-to-date!\n",
            "[nltk_data] Downloading package conll2002 to /root/nltk_data...\n",
            "[nltk_data]   Package conll2002 is already up-to-date!\n"
          ]
        },
        {
          "output_type": "execute_result",
          "data": {
            "text/plain": [
              "True"
            ]
          },
          "metadata": {},
          "execution_count": 1
        }
      ],
      "source": [
        "import nltk\n",
        "from nltk.corpus import conll2002\n",
        "from nltk.tokenize import word_tokenize\n",
        "from nltk.tag import pos_tag\n",
        "import matplotlib.pyplot as plt\n",
        "from sklearn.metrics import f1_score, recall_score\n",
        "!pip install psutil\n",
        "!pip install psutil\n",
        "!pip install GPUtil\n",
        "!pip install PyPDF2\n",
        "nltk.download('conll2002')\n",
        "nltk.download('averaged_perceptron_tagger')\n",
        "nltk.download('punkt')\n",
        "nltk.download('stopwords')\n",
        "nltk.download('maxent_ne_chunker')\n",
        "nltk.download('words')\n",
        "import pandas as pd\n",
        "import numpy as np\n",
        "import time\n",
        "import psutil\n",
        "import GPUtil\n",
        "import os\n",
        "import PyPDF2\n",
        "nltk.download('conll2002')"
      ]
    },
    {
      "cell_type": "markdown",
      "source": [
        "# Getting the En file as a input"
      ],
      "metadata": {
        "id": "dB2v-V7K36z7"
      }
    },
    {
      "cell_type": "code",
      "source": [
        "# fname = '/content/English.pdf'\n",
        "# output = get_File(fname)\n",
        "\n",
        "output_en = '''  \n",
        "\n",
        "\n",
        "1. John Smith is a lawyer in New York.\n",
        "2. The Eiffel Tower is located in Paris, France.\n",
        "3. The Nile River is the longest river in the world.\n",
        "4. Jennifer Lopez is a singer and actress from the Bronx.\n",
        "5. The Statue of Liberty is a symbol of freedom in the United States.\n",
        "6. The Great Barrier Reef is the largest coral reef system in the world.\n",
        "7. Michael Jordan is considered one of the greatest basketball players of all time.\n",
        "8. The Amazon Rainforest is home to many species of animals and plants.\n",
        "9. William Shakespeare is one of the most famous playwrights in history.\n",
        "10. The Taj Mahal is a mausoleum located in Agra, India.\n",
        "11. Nelson Mandela was a South African anti-apartheid revolutionary and politician.\n",
        "12. The Sydney Opera House is an iconic performing arts venue in Australia.\n",
        "13. Stephen Hawking was a renowned physicist and author.\n",
        "14. The Grand Canyon is a natural wonder located in Arizona.\n",
        "15. Queen Elizabeth II is the current monarch of the United Kingdom.\n",
        "16. Mount Everest is the highest mountain in the world.\n",
        "17. Barack Obama was the 44th President of the United States.\n",
        "18. The Louvre is one of the most famous museums in the world.\n",
        "19. Albert Einstein was a theoretical physicist who developed the theory of relativity.\n",
        "20. The Golden Gate Bridge is a suspension bridge in San Francisco, California.\n",
        "21. Leonardo da Vinci was an Italian Renaissance artist and inventor.\n",
        "22. The Sahara Desert is the largest hot desert in the world.\n",
        "23. The Great Wall of China is the longest wall in the world.\n",
        "24. Beethoven is one of the most famous composers of classical music.\n",
        "25. The Colosseum is an ancient amphitheater located in Rome, Italy.\n",
        "26. Neil Armstrong was the first person to walk on the moon.\n",
        "27. The Tower of London is a historic castle located in London, England.\n",
        "28. J.K. Rowling is the author of the Harry Potter book series.\n",
        "29. The Berlin Wall was a symbol of the Cold War that divided Germany.\n",
        "30. Elvis Presley is known as the \"King of Rock and Roll.\"\n",
        "31. The Vatican City is the smallest country in the world.\n",
        "32. Ernest Hemingway was an American novelist and journalist.\n",
        "33. The Niagara Falls are located on the border between the United States and Canada.\n",
        "34. Vincent van Gogh was a Dutch Post-Impressionist painter.\n",
        "35. The Roman Forum was the center of political and social activity in ancient Rome.\n",
        "36. Muhammad Ali was a professional boxer and activist.\n",
        "37. Stonehenge is a prehistoric monument located in Wiltshire, England.\n",
        "38. Isaac Newton was a mathematician and physicist who developed the laws of motion.\n",
        "39. The Sistine Chapel is a chapel in the Vatican City famous for its ceiling painted by Michelangelo.\n",
        "40. The Brooklyn Bridge is a suspension bridge in New York City.\n",
        "41. Anne Frank was a Jewish girl who kept a diary while hiding from the Nazis during World War II.\n",
        "42. The Panama Canal is a 50-mile-long waterway that connects the Atlantic and Pacific Oceans.\n",
        "43. Alexander Graham Bell was an inventor who is credited with inventing the telephone.\n",
        "44. The Leaning Tower of Pisa is a bell tower in Pisa, Italy.\n",
        "45. Helen Keller was an American author and activist who was deaf and blind.\n",
        "46. The Acropolis is a historic site in Athens, Greece.\n",
        "47. John F. Kennedy was the 35th President of the United States.\n",
        "48. The Alhambra is a palace and fortress complex located in Granada, Spain\n",
        "\n",
        "\n",
        "\n",
        "1. The Eiffel Tower is located in Paris, France.\n",
        "2. Barack Obama was the 44th President of the United States.\n",
        "3. The Great Barrier Reef is the world's largest coral reef system.\n",
        "4. The Mona Lisa is a painting by Leonardo da Vinci.\n",
        "5. Mount Everest is the highest peak in the world.\n",
        "6. The Statue of Liberty is a symbol of freedom and democracy.\n",
        "7. The Amazon River is the second longest river in the world.\n",
        "8. The Taj Mahal is a mausoleum located in Agra, India.\n",
        "9. Albert Einstein was a famous physicist who developed the theory of relativity.\n",
        "10. William Shakespeare is considered one of the greatest playwrights in history.\n",
        "11. The Colosseum is an amphitheater in Rome, Italy.\n",
        "12. Nelson Mandela was a South African anti-apartheid revolutionary and politician.\n",
        "13. The Sistine Chapel is a chapel in the Apostolic Palace, the official residence of the Pope, in Vatican City.\n",
        "14. The Nile River is the longest river in the world.\n",
        "15. Queen Elizabeth II is the current monarch of the United Kingdom.\n",
        "16. The Parthenon is an ancient temple in Athens, Greece.\n",
        "17. Neil Armstrong was the first person to walk on the moon.\n",
        "18. The Leaning Tower of Pisa is a famous tower in Pisa, Italy.\n",
        "19. The Golden Gate Bridge is a suspension bridge in San Francisco, California.\n",
        "20. The Red Square is a square in Moscow, Russia, known for its historical significance.\n",
        "21. The Great Wall of China is a series of fortifications built along the northern borders of China.\n",
        "22. J.K. Rowling is the author of the Harry Potter series.\n",
        "23. The Louvre is a museum in Paris, France, known for its collection of art and artifacts.\n",
        "24. The Panama Canal is a man-made waterway that connects the Atlantic and Pacific Oceans.\n",
        "25. Leonardo da Vinci was an Italian artist and inventor.\n",
        "26. Buckingham Palace is the official residence of the monarch of the United Kingdom.\n",
        "27. The Acropolis is an ancient citadel located on a rocky outcrop above the city of Athens, Greece.\n",
        "28. Marie Curie was a Polish-born physicist and chemist who conducted pioneering research on radioactivity.\n",
        "29. The Tower of London is a historic castle located on the north bank of the River Thames in central London.\n",
        "30. Vincent van Gogh was a Dutch post-impressionist painter who is among the most famous and influential figures in the history of Western art.\n",
        "31. Stonehenge is a prehistoric monument in Wiltshire, England.\n",
        "32. The Vatican City is an independent city-state enclaved within Rome, Italy.\n",
        "33. The Sydney Opera House is a performing arts center in Sydney, Australia.\n",
        "34. The Alhambra is a palace and fortress complex located in Granada, Spain.\n",
        "35. Winston Churchill was a British politician who served as the Prime Minister of the United Kingdom during World War II.\n",
        "36. The Palace of Versailles is a palace located in Versailles, France, known for its grandeur and opulence.\n",
        "37. Ernest Hemingway was an American novelist, short story writer, and journalist.\n",
        "38. The Tower Bridge is a combined bascule and suspension bridge in London, England.\n",
        "39. Pablo Picasso was a Spanish painter, sculptor, printmaker, ceramicist, and stage designer.\n",
        "40. The Angkor Wat is a temple complex in Cambodia and the largest religious monument in the world.\n",
        "41. The Forbidden City is a palace complex in central Beijing, China.\n",
        "42. Charles Darwin was an English naturalist, geologist, and biologist, best known for his contributions\n",
        "\n",
        "\n",
        "\n",
        "'''"
      ],
      "metadata": {
        "id": "JnTjOc2-3L-B"
      },
      "execution_count": 2,
      "outputs": []
    },
    {
      "cell_type": "markdown",
      "source": [
        "# Getting the Usage on diffrent parameters"
      ],
      "metadata": {
        "id": "WplHmADn4SSu"
      }
    },
    {
      "cell_type": "code",
      "source": [
        "def get_Usage():\n",
        "    #Getting % usage of CPU\n",
        "    print(\"The CPU % usage :\",psutil.cpu_percent())\n",
        "\n",
        "    # Getting % usage of virtual_memory ( 3rd field)\n",
        "    print('RAM memory % used:', psutil.virtual_memory()[2])\n",
        "\n",
        "    # Getting usage of virtual_memory in GB ( 4th field)\n",
        "    print('RAM Used (GB):', psutil.virtual_memory()[3]/1000000000)\n",
        "\n",
        "    # Testing the GPUtil library for both GPU performance details\n",
        "    print('GPU Used :', GPUtil.showUtilization())\n",
        "    "
      ],
      "metadata": {
        "id": "lFJST5u44IxG"
      },
      "execution_count": 3,
      "outputs": []
    },
    {
      "cell_type": "code",
      "source": [
        "get_Usage()"
      ],
      "metadata": {
        "colab": {
          "base_uri": "https://localhost:8080/"
        },
        "id": "hqS6oHIQ4I5s",
        "outputId": "b5bf3744-dce9-4ddd-8ae1-59dcbd1983e5"
      },
      "execution_count": 4,
      "outputs": [
        {
          "output_type": "stream",
          "name": "stdout",
          "text": [
            "The CPU % usage : 80.2\n",
            "RAM memory % used: 9.1\n",
            "RAM Used (GB): 0.93165568\n",
            "| ID | GPU | MEM |\n",
            "------------------\n",
            "GPU Used : None\n"
          ]
        }
      ]
    },
    {
      "cell_type": "markdown",
      "source": [
        "# NLTK pre-trained model to detect the entities"
      ],
      "metadata": {
        "id": "3zezVkhz4XIZ"
      }
    },
    {
      "cell_type": "code",
      "source": [
        "for sent in nltk.sent_tokenize(output_en):\n",
        "  for chunk in nltk.ne_chunk(nltk.pos_tag(nltk.word_tokenize(sent))):\n",
        "     if hasattr(chunk, 'label'):\n",
        "        print(chunk.label(), ' '.join(c[0] for c in chunk))\n",
        "get_Usage()"
      ],
      "metadata": {
        "colab": {
          "base_uri": "https://localhost:8080/"
        },
        "id": "-lqxSEHJ2-27",
        "outputId": "e7704314-1d55-4f89-bb26-2ff0fa00473e"
      },
      "execution_count": 5,
      "outputs": [
        {
          "output_type": "stream",
          "name": "stdout",
          "text": [
            "PERSON John\n",
            "PERSON Smith\n",
            "GPE New York\n",
            "ORGANIZATION Eiffel Tower\n",
            "GPE Paris\n",
            "GPE France\n",
            "ORGANIZATION Nile River\n",
            "PERSON Jennifer\n",
            "ORGANIZATION Lopez\n",
            "GPE Bronx\n",
            "GPE Liberty\n",
            "GPE United States\n",
            "ORGANIZATION Great Barrier Reef\n",
            "PERSON Michael\n",
            "GPE Jordan\n",
            "ORGANIZATION Amazon Rainforest\n",
            "PERSON William\n",
            "ORGANIZATION Shakespeare\n",
            "ORGANIZATION Taj Mahal\n",
            "GPE Agra\n",
            "GPE India\n",
            "PERSON Nelson\n",
            "PERSON Mandela\n",
            "GPE South\n",
            "GPE African\n",
            "ORGANIZATION Sydney Opera House\n",
            "GPE Australia\n",
            "PERSON Stephen\n",
            "FACILITY Grand Canyon\n",
            "GPE Arizona\n",
            "PERSON Queen\n",
            "PERSON Elizabeth II\n",
            "ORGANIZATION United Kingdom\n",
            "PERSON Mount\n",
            "ORGANIZATION Everest\n",
            "PERSON Barack\n",
            "PERSON Obama\n",
            "GPE United States\n",
            "ORGANIZATION Louvre\n",
            "PERSON Albert\n",
            "PERSON Einstein\n",
            "ORGANIZATION Golden Gate Bridge\n",
            "GPE San Francisco\n",
            "GPE California\n",
            "GPE Leonardo\n",
            "PERSON Vinci\n",
            "GPE Italian\n",
            "ORGANIZATION Sahara Desert\n",
            "ORGANIZATION Great Wall\n",
            "GPE China\n",
            "GPE Beethoven\n",
            "ORGANIZATION Colosseum\n",
            "GPE Rome\n",
            "GPE Italy\n",
            "PERSON Neil\n",
            "PERSON Armstrong\n",
            "GPE London\n",
            "GPE London\n",
            "GPE England\n",
            "ORGANIZATION Harry\n",
            "ORGANIZATION Berlin Wall\n",
            "GPE Germany\n",
            "PERSON Elvis\n",
            "GPE Rock\n",
            "PERSON Roll\n",
            "ORGANIZATION Vatican City\n",
            "PERSON Ernest\n",
            "PERSON Hemingway\n",
            "GPE American\n",
            "ORGANIZATION Niagara\n",
            "GPE United States\n",
            "GPE Canada\n",
            "GPE Vincent\n",
            "PERSON Gogh\n",
            "GPE Dutch\n",
            "ORGANIZATION Roman Forum\n",
            "PERSON Muhammad\n",
            "PERSON Ali\n",
            "GPE Stonehenge\n",
            "GPE Wiltshire\n",
            "GPE England\n",
            "PERSON Isaac\n",
            "PERSON Newton\n",
            "ORGANIZATION Sistine\n",
            "ORGANIZATION Vatican City\n",
            "PERSON Michelangelo\n",
            "ORGANIZATION Brooklyn Bridge\n",
            "GPE New York City\n",
            "PERSON Anne\n",
            "PERSON Frank\n",
            "ORGANIZATION Nazis\n",
            "ORGANIZATION Panama Canal\n",
            "ORGANIZATION Atlantic\n",
            "PERSON Pacific Oceans\n",
            "PERSON Alexander\n",
            "PERSON Graham Bell\n",
            "ORGANIZATION Leaning Tower\n",
            "GPE Pisa\n",
            "GPE Pisa\n",
            "GPE Italy\n",
            "PERSON Helen\n",
            "PERSON Keller\n",
            "GPE American\n",
            "ORGANIZATION Acropolis\n",
            "GPE Athens\n",
            "GPE Greece\n",
            "PERSON John\n",
            "PERSON Kennedy\n",
            "GPE United States\n",
            "ORGANIZATION Alhambra\n",
            "GPE Granada\n",
            "GPE Spain\n",
            "ORGANIZATION Eiffel Tower\n",
            "GPE Paris\n",
            "GPE France\n",
            "PERSON Barack\n",
            "PERSON Obama\n",
            "GPE United States\n",
            "ORGANIZATION Great Barrier Reef\n",
            "ORGANIZATION Mona Lisa\n",
            "PERSON Leonardo\n",
            "PERSON Vinci\n",
            "PERSON Mount\n",
            "ORGANIZATION Everest\n",
            "GPE Liberty\n",
            "ORGANIZATION Amazon River\n",
            "ORGANIZATION Taj Mahal\n",
            "GPE Agra\n",
            "GPE India\n",
            "PERSON Albert\n",
            "PERSON Einstein\n",
            "PERSON William\n",
            "ORGANIZATION Shakespeare\n",
            "ORGANIZATION Colosseum\n",
            "GPE Rome\n",
            "GPE Italy\n",
            "PERSON Nelson\n",
            "PERSON Mandela\n",
            "GPE South\n",
            "GPE African\n",
            "ORGANIZATION Sistine\n",
            "ORGANIZATION Apostolic Palace\n",
            "GPE Pope\n",
            "GPE Vatican City\n",
            "ORGANIZATION Nile River\n",
            "PERSON Queen\n",
            "PERSON Elizabeth II\n",
            "ORGANIZATION United Kingdom\n",
            "ORGANIZATION Parthenon\n",
            "GPE Athens\n",
            "GPE Greece\n",
            "PERSON Neil\n",
            "PERSON Armstrong\n",
            "ORGANIZATION Leaning Tower\n",
            "GPE Pisa\n",
            "GPE Pisa\n",
            "GPE Italy\n",
            "ORGANIZATION Golden Gate Bridge\n",
            "GPE San Francisco\n",
            "GPE California\n",
            "ORGANIZATION Red Square\n",
            "GPE Moscow\n",
            "GPE Russia\n",
            "ORGANIZATION Great Wall\n",
            "GPE China\n",
            "GPE China\n",
            "ORGANIZATION Harry\n",
            "ORGANIZATION Louvre\n",
            "GPE Paris\n",
            "GPE France\n",
            "ORGANIZATION Panama Canal\n",
            "ORGANIZATION Atlantic\n",
            "PERSON Pacific Oceans\n",
            "GPE Leonardo\n",
            "PERSON Vinci\n",
            "GPE Italian\n",
            "PERSON Buckingham\n",
            "ORGANIZATION Palace\n",
            "ORGANIZATION United Kingdom\n",
            "ORGANIZATION Acropolis\n",
            "GPE Athens\n",
            "GPE Greece\n",
            "PERSON Marie\n",
            "PERSON Curie\n",
            "GPE London\n",
            "ORGANIZATION River Thames\n",
            "GPE London\n",
            "GPE Vincent\n",
            "PERSON Gogh\n",
            "GPE Dutch\n",
            "GPE Western\n",
            "GPE Stonehenge\n",
            "GPE Wiltshire\n",
            "GPE England\n",
            "ORGANIZATION Vatican City\n",
            "GPE Rome\n",
            "GPE Italy\n",
            "ORGANIZATION Sydney Opera House\n",
            "GPE Sydney\n",
            "GPE Australia\n",
            "ORGANIZATION Alhambra\n",
            "GPE Granada\n",
            "GPE Spain\n",
            "PERSON Winston\n",
            "PERSON Churchill\n",
            "GPE British\n",
            "ORGANIZATION United Kingdom\n",
            "ORGANIZATION Palace\n",
            "GPE Versailles\n",
            "GPE Versailles\n",
            "GPE France\n",
            "PERSON Ernest\n",
            "PERSON Hemingway\n",
            "GPE American\n",
            "ORGANIZATION Tower Bridge\n",
            "GPE London\n",
            "GPE England\n",
            "PERSON Pablo\n",
            "PERSON Picasso\n",
            "GPE Spanish\n",
            "ORGANIZATION Angkor Wat\n",
            "GPE Cambodia\n",
            "ORGANIZATION Forbidden City\n",
            "GPE Beijing\n",
            "GPE China\n",
            "PERSON Charles\n",
            "PERSON Darwin\n",
            "GPE English\n",
            "The CPU % usage : 100.0\n",
            "RAM memory % used: 7.8\n",
            "RAM Used (GB): 0.754896896\n",
            "| ID | GPU | MEM |\n",
            "------------------\n",
            "GPU Used : None\n"
          ]
        }
      ]
    },
    {
      "cell_type": "code",
      "source": [],
      "metadata": {
        "id": "7Omh2UNX3OwJ"
      },
      "execution_count": 5,
      "outputs": []
    },
    {
      "cell_type": "markdown",
      "source": [
        "# Getting the Esp file as a input"
      ],
      "metadata": {
        "id": "r0yqpOIp-Fxs"
      }
    },
    {
      "cell_type": "code",
      "source": [
        "# fname = '/content/OJ_L_2023_113I_FULL_ES_TXT.pdf'\n",
        "# output = get_File(fname)\n",
        "\n",
        "output_es= '''\n",
        "\n",
        "\n",
        "1. El presidente del gobierno español, Pedro Sánchez, anunció nuevas medidas para contener la propagación del coronavirus.\n",
        "(Translation: The Spanish Prime Minister, Pedro Sánchez, announced new measures to contain the spread of the coronavirus.)\n",
        "\n",
        "2. El futbolista argentino, Lionel Messi, ha ganado seis veces el Balón de Oro.\n",
        "(Translation: The Argentine footballer, Lionel Messi, has won the Ballon d'Or six times.)\n",
        "\n",
        "3. La ciudad de Barcelona es famosa por su arquitectura modernista, especialmente la obra de Antoni Gaudí.\n",
        "(Translation: The city of Barcelona is famous for its modernist architecture, especially the work of Antoni Gaudí.)\n",
        "\n",
        "4. La actriz española, Penélope Cruz, ha protagonizado numerosas películas en Hollywood.\n",
        "(Translation: The Spanish actress, Penélope Cruz, has starred in numerous Hollywood films.)\n",
        "\n",
        "5. El escritor colombiano, Gabriel García Márquez, es conocido por su obra maestra \"Cien años de soledad\".\n",
        "(Translation: The Colombian writer, Gabriel García Márquez, is known for his masterpiece \"One Hundred Years of Solitude.\")\n",
        "\n",
        "6. El cantante puertorriqueño, Bad Bunny, ha sido nominado a varios premios Grammy Latinos.\n",
        "(Translation: The Puerto Rican singer, Bad Bunny, has been nominated for several Latin Grammy Awards.)\n",
        "\n",
        "7. El estadio Santiago Bernabéu es el hogar del club de fútbol español, Real Madrid.\n",
        "(Translation: The Santiago Bernabeu Stadium is the home of the Spanish football club, Real Madrid.)\n",
        "\n",
        "8. La pintora mexicana, Frida Kahlo, es famosa por sus autorretratos y su estilo surrealista.\n",
        "(Translation: The Mexican painter, Frida Kahlo, is famous for her self-portraits and her surrealist style.)\n",
        "\n",
        "9. El actor español, Antonio Banderas, ha sido nominado a varios premios Goya por su trabajo en el cine.\n",
        "(Translation: The Spanish actor, Antonio Banderas, has been nominated for several Goya Awards for his work in film.)\n",
        "\n",
        "10. La playa de Copacabana es uno de los destinos turísticos más populares de Río de Janeiro, Brasil.\n",
        "(Translation: Copacabana Beach is one of the most popular tourist destinations in Rio de Janeiro, Brazil.)\n",
        "\n",
        "11. El guitarrista mexicano, Carlos Santana, es famoso por su fusión de rock, jazz y música latina.\n",
        "(Translation: The Mexican guitarist, Carlos Santana, is famous for his fusion of rock, jazz, and Latin music.)\n",
        "\n",
        "12. La ciudad de Sevilla es conocida por su catedral gótica y su impresionante alcázar.\n",
        "(Translation: The city of Seville is known for its Gothic cathedral and impressive Alcazar.)\n",
        "\n",
        "13. El cantante español, Enrique Iglesias, ha vendido más de 170 millones de discos en todo el mundo.\n",
        "(Translation: The Spanish singer, Enrique Iglesias, has sold over 170 million records worldwide.)\n",
        "\n",
        "14. La escritora chilena, Isabel Allende, es conocida por sus novelas históricas y su activismo social.\n",
        "(Translation: The Chilean writer, Isabel Allende, is known for her historical novels and social activism.)\n",
        "\n",
        "15. El baile flamenco es una forma de arte tradicional originaria del sur de España.\n",
        "(Translation: Flamenco dance is a traditional art form originating from southern Spain.)\n",
        "\n",
        "16. El actor mexicano, Gael García Bernal, ha sido nominado a varios premios.\n",
        "\n",
        "\n",
        "1. Mi hermano tiene un perro llamado Rocky.\n",
        "2. La ciudad de Barcelona es famosa por su arquitectura modernista.\n",
        "3. Me gusta leer libros de misterio y suspense.\n",
        "4. El río Amazonas es el más largo y caudaloso del mundo.\n",
        "5. Esta noche vamos a ver una obra de teatro en el teatro nacional.\n",
        "6. Las montañas nevadas son impresionantes en invierno.\n",
        "7. El chef preparó un plato delicioso con mariscos frescos.\n",
        "8. El parque nacional es un lugar ideal para hacer senderismo y acampar.\n",
        "9. La música clásica es mi género favorito.\n",
        "10. Los pingüinos son animales muy simpáticos.\n",
        "11. El viernes pasado fui a un concierto de rock.\n",
        "12. La plaza mayor es un lugar de encuentro para los habitantes de la ciudad.\n",
        "13. El tren de alta velocidad es una forma rápida y cómoda de viajar.\n",
        "14. En la biblioteca encontré un libro interesante sobre la historia de España.\n",
        "15. El fútbol es el deporte más popular en España.\n",
        "16. Las vacaciones de verano son ideales para ir a la playa.\n",
        "17. La catedral de Santiago de Compostela es un importante lugar de peregrinación.\n",
        "18. La paella es un plato típico de la cocina española.\n",
        "19. Los colores del atardecer son impresionantes.\n",
        "20. El arte moderno es a menudo muy abstracto.\n",
        "21. La navaja suiza es una herramienta muy útil.\n",
        "22. Los vinos españoles son muy apreciados en todo el mundo.\n",
        "23. Las películas de terror me dan miedo.\n",
        "24. La Alhambra es un espectacular palacio y fortaleza en Granada.\n",
        "25. El baloncesto es un deporte muy emocionante de ver.\n",
        "26. La Torre Eiffel es uno de los monumentos más famosos del mundo.\n",
        "27. Los caballos son animales majestuosos y elegantes.\n",
        "28. La pintura renacentista es muy realista y detallada.\n",
        "29. Las nubes en el cielo pueden formar figuras interesantes.\n",
        "30. La Semana Santa es una festividad religiosa muy importante en España.\n",
        "31. Los museos son una forma excelente de aprender sobre la historia y la cultura.\n",
        "32. El Museo del Prado en Madrid es uno de los más importantes del mundo.\n",
        "33. El voleibol es un deporte divertido para jugar en la playa.\n",
        "34. La ciudad de Sevilla es conocida por su hermoso casco antiguo.\n",
        "35. Las aves migratorias pueden recorrer miles de kilómetros cada año.\n",
        "36. El Greco fue un famoso pintor español del siglo XVI.\n",
        "37. Los ríos son importantes para el medio ambiente y la biodiversidad.\n",
        "38. La literatura española tiene una rica tradición y muchos grandes escritores.\n",
        "39. Las flores son hermosas y perfumadas.\n",
        "40. El Palacio Real de Madrid es una impresionante residencia real.\n",
        "41. El ajedrez es un juego muy desafiante y estratégico.\n",
        "42. Las ballenas son animales impresionantes y majestuosos.\n",
        "43. El flamenco es una forma de música y danza tradicional de España.\n",
        "44. Las auroras boreales son un espectáculo natural\n",
        "'''"
      ],
      "metadata": {
        "id": "b8EFAl-W9sUL"
      },
      "execution_count": 6,
      "outputs": []
    },
    {
      "cell_type": "markdown",
      "source": [
        "# NLTK pre-trained model to detect the entities"
      ],
      "metadata": {
        "id": "2SsV0p0G9sUL"
      }
    },
    {
      "cell_type": "code",
      "source": [
        "for sent in nltk.sent_tokenize(output_es):\n",
        "  for chunk in nltk.ne_chunk(nltk.pos_tag(nltk.word_tokenize(sent))):\n",
        "     if hasattr(chunk, 'label'):\n",
        "        print(chunk.label(), ' '.join(c[0] for c in chunk))\n",
        "get_Usage()"
      ],
      "metadata": {
        "colab": {
          "base_uri": "https://localhost:8080/"
        },
        "id": "dKru2Vv49sUL",
        "outputId": "5700f361-33c1-4b5f-ebd3-7aa13e6e3606"
      },
      "execution_count": 7,
      "outputs": [
        {
          "output_type": "stream",
          "name": "stdout",
          "text": [
            "GPE El\n",
            "PERSON Pedro Sánchez\n",
            "GPE Spanish\n",
            "PERSON Pedro Sánchez\n",
            "GPE El\n",
            "PERSON Lionel Messi\n",
            "PERSON Balón\n",
            "GPE Argentine\n",
            "PERSON Lionel Messi\n",
            "GPE Ballon\n",
            "GPE La\n",
            "PERSON Barcelona\n",
            "PERSON Antoni Gaudí\n",
            "GPE Barcelona\n",
            "PERSON Antoni Gaudí\n",
            "GPE La\n",
            "PERSON Penélope Cruz\n",
            "GPE Hollywood\n",
            "GPE Spanish\n",
            "PERSON Penélope Cruz\n",
            "GPE El\n",
            "PERSON Gabriel García Márquez\n",
            "GPE Colombian\n",
            "PERSON Gabriel García Márquez\n",
            "GPE Solitude\n",
            "GPE El\n",
            "PERSON Bad Bunny\n",
            "PERSON Grammy Latinos\n",
            "GPE Puerto Rican\n",
            "PERSON Bad Bunny\n",
            "PERSON Latin Grammy Awards\n",
            "GPE El\n",
            "PERSON Santiago Bernabéu\n",
            "ORGANIZATION Real Madrid\n",
            "ORGANIZATION Santiago Bernabeu Stadium\n",
            "GPE Spanish\n",
            "ORGANIZATION Real Madrid\n",
            "GPE La\n",
            "PERSON Frida Kahlo\n",
            "GPE Mexican\n",
            "PERSON Frida Kahlo\n",
            "GPE El\n",
            "PERSON Antonio Banderas\n",
            "PERSON Goya\n",
            "GPE Spanish\n",
            "PERSON Antonio Banderas\n",
            "GPE La\n",
            "PERSON Río\n",
            "PERSON Janeiro\n",
            "PERSON Brasil\n",
            "PERSON Copacabana Beach\n",
            "GPE Rio\n",
            "PERSON Janeiro\n",
            "GPE Brazil\n",
            "GPE El\n",
            "PERSON Carlos Santana\n",
            "GPE Mexican\n",
            "PERSON Carlos Santana\n",
            "GPE Latin\n",
            "GPE La\n",
            "PERSON Sevilla\n",
            "GPE Seville\n",
            "GPE El\n",
            "PERSON Enrique Iglesias\n",
            "GPE Spanish\n",
            "PERSON Enrique Iglesias\n",
            "GPE La\n",
            "PERSON Isabel Allende\n",
            "GPE Chilean\n",
            "PERSON Isabel Allende\n",
            "GPE El\n",
            "PERSON España\n",
            "GPE Spain\n",
            "GPE El\n",
            "PERSON Gael García Bernal\n",
            "GPE Mi\n",
            "PERSON Rocky\n",
            "GPE La\n",
            "PERSON Barcelona\n",
            "GPE Me\n",
            "GPE El\n",
            "ORGANIZATION Amazonas\n",
            "GPE Esta\n",
            "GPE Las\n",
            "GPE El\n",
            "GPE El\n",
            "PERSON La\n",
            "GPE Los\n",
            "GPE El\n",
            "GPE La\n",
            "GPE El\n",
            "GPE En\n",
            "PERSON España\n",
            "GPE El\n",
            "PERSON España\n",
            "GPE La\n",
            "PERSON Santiago\n",
            "ORGANIZATION Compostela\n",
            "GPE La\n",
            "GPE Los\n",
            "GPE El\n",
            "GPE Los\n",
            "GPE Las\n",
            "PERSON La\n",
            "ORGANIZATION Alhambra\n",
            "GPE Granada\n",
            "GPE El\n",
            "PERSON La\n",
            "PERSON Torre Eiffel\n",
            "GPE Los\n",
            "GPE La\n",
            "PERSON La\n",
            "PERSON Semana Santa\n",
            "GPE España\n",
            "GPE Los\n",
            "GPE Madrid\n",
            "GPE El\n",
            "GPE La\n",
            "PERSON Sevilla\n",
            "GPE Las\n",
            "ORGANIZATION XVI\n",
            "GPE Los\n",
            "GPE La\n",
            "GPE Las\n",
            "GPE Madrid\n",
            "GPE El\n",
            "GPE El\n",
            "PERSON España\n",
            "The CPU % usage : 100.0\n",
            "RAM memory % used: 7.6\n",
            "RAM Used (GB): 0.731324416\n",
            "| ID | GPU | MEM |\n",
            "------------------\n",
            "GPU Used : None\n"
          ]
        }
      ]
    },
    {
      "cell_type": "code",
      "source": [],
      "metadata": {
        "id": "aFaIUNIn-OZ0"
      },
      "execution_count": 7,
      "outputs": []
    },
    {
      "cell_type": "markdown",
      "source": [
        "# Getting the Ned file as a input"
      ],
      "metadata": {
        "id": "ZkqOfWS_-NcJ"
      }
    },
    {
      "cell_type": "code",
      "source": [
        "# fname = '/content/OJ_L_2023_113I_FULL_NL_TXT.pdf'\n",
        "# output = get_File(fname)\n",
        "\n",
        "output_ne = '''\n",
        "1. Mijn vriendin Anna woont in Rotterdam.\n",
        "2. De schilderijen van Vincent van Gogh zijn wereldberoemd.\n",
        "3. Amsterdam is de hoofdstad van Nederland.\n",
        "4. Het Rijksmuseum heeft een indrukwekkende collectie kunst.\n",
        "5. De Johan Cruijff Arena is het stadion van Ajax Amsterdam.\n",
        "6. De Universiteit van Amsterdam is een gerenommeerde universiteit.\n",
        "7. Koning Willem-Alexander is de huidige koning van Nederland.\n",
        "8. Het Vondelpark is een prachtig park in Amsterdam.\n",
        "9. Het Anne Frank Huis is een belangrijke bezienswaardigheid in Amsterdam.\n",
        "10. De Nederlandse Voedsel- en Warenautoriteit controleert de voedselveiligheid.\n",
        "11. De NS is de Nederlandse Spoorwegen.\n",
        "12. De Elfstedentocht is een bekende schaatstocht in Friesland.\n",
        "13. De Technische Universiteit Delft is een bekende technische universiteit.\n",
        "14. De Maas is een rivier in Nederland.\n",
        "15. De Domtoren is een toren in Utrecht.\n",
        "16. Rotterdam is een belangrijke havenstad.\n",
        "17. Het Rijksinstituut voor Volksgezondheid en Milieu houdt zich bezig met volksgezondheid.\n",
        "18. De Efteling is een bekend attractiepark in Kaatsheuvel.\n",
        "19. De Nederlandse Bank is de centrale bank van Nederland.\n",
        "20. De Utrechtse Heuvelrug is een prachtig natuurgebied.\n",
        "21. De Toren van Pisa staat in Italië.\n",
        "22. De Erasmus Universiteit is een bekende universiteit in Rotterdam.\n",
        "23. De Deltawerken zijn waterwerken in Zeeland.\n",
        "24. De Waddenzee is een natuurgebied in Nederland.\n",
        "25. Het Rijksvastgoedbedrijf is verantwoordelijk voor het vastgoedbeheer van de overheid.\n",
        "26. De Euromast is een bekende toren in Rotterdam.\n",
        "27. De Zeeuwse kust is een populaire vakantiebestemming.\n",
        "28. Het Mauritshuis is een museum in Den Haag.\n",
        "29. Het Centraal Station van Amsterdam is een druk station.\n",
        "30. De Keukenhof is een bekende bloementuin in Lisse.\n",
        "31. Het Nederlands Openluchtmuseum is een museum in Arnhem.\n",
        "32. De Oude Kerk is een kerk in Amsterdam.\n",
        "33. Het Van Gogh Museum is een museum in Amsterdam.\n",
        "34. De Nederlandse Spoorwegen hebben veel treinstations in Nederland.\n",
        "35. De Sint-Janskathedraal is een kathedraal in Den Bosch.\n",
        "36. Het Tropenmuseum is een museum in Amsterdam.\n",
        "37. De Tweede Kamer is de Nederlandse regering.\n",
        "38. De Waag is een historisch gebouw in Amsterdam.\n",
        "39. De Beemster is een polder in Noord-Holland.\n",
        "40. De IJssel is een rivier in Nederland.\n",
        "41. Het Scheepvaartmuseum is een museum in Amsterdam.\n",
        "42. De KLM is de Koninklijke Luchtvaart Maatschappij.\n",
        "43. Het Kröller-Müller Museum is een museum in Otterlo.\n",
        "44. De Kinderdijkse molens zijn bekende molens in Nederland.\n",
        "\n",
        "1. De gemeente Amsterdam heeft een nieuw fietsplan gelanceerd.\n",
        "2. Het Rijksmuseum in Amsterdam heeft een van de grootste kunstcollecties ter wereld.\n",
        "3. De Nederlandse regering heeft een akkoord bereikt over de begroting voor volgend jaar.\n",
        "4. Het Amsterdamse nachtleven is wereldberoemd.\n",
        "5. De Koninklijke Bibliotheek in Den Haag heeft een uitgebreide collectie oude boeken en handschriften.\n",
        "6. De ANWB is de grootste wegenwachtorganisatie van Nederland.\n",
        "7. Het Vondelpark in Amsterdam is een populaire bestemming voor toeristen en locals.\n",
        "8. De Johan Cruijff Arena is de thuisbasis van Ajax Amsterdam.\n",
        "9. De Nederlandse waterwegen zijn van groot belang voor de economie.\n",
        "10. De Erasmusbrug in Rotterdam is een bekend symbool van de stad.\n",
        "11. Het Nederlandse voetbalelftal heeft in 1988 het EK gewonnen.\n",
        "12. De Universiteit van Amsterdam is een van de oudste en meest prestigieuze universiteiten van Nederland.\n",
        "13. De Nederlandse kunstenaar Vincent van Gogh is wereldberoemd om zijn schilderijen.\n",
        "14. Het Rijksinstituut voor Volksgezondheid en Milieu (RIVM) is verantwoordelijk voor de volksgezondheid in Nederland.\n",
        "15. De Nederlandsche Bank is de centrale bank van Nederland.\n",
        "16. Het Paleis op de Dam in Amsterdam is een van de bekendste bezienswaardigheden van de stad.\n",
        "17. Het Nederlandse kabinet heeft een akkoord bereikt over de klimaatdoelen.\n",
        "18. De Nederlandse zorgsector staat onder druk door een tekort aan personeel.\n",
        "19. De Nederlandse politie heeft een nieuwe methode ontwikkeld om criminaliteit te bestrijden.\n",
        "20. Het Nederlands Openluchtmuseum in Arnhem geeft een beeld van het leven in Nederland door de eeuwen heen.\n",
        "21. De Nederlandse provincie Groningen is bekend om zijn aardgaswinning.\n",
        "22. Het Nederlands Elftal speelt vanavond tegen België.\n",
        "23. De Nederlandse spoorwegen hebben te maken met veel vertragingen.\n",
        "24. De Nederlandse overheid heeft de coronamaatregelen versoepeld.\n",
        "25. Het Rijksmuseum van Oudheden in Leiden heeft een uitgebreide collectie archeologische vondsten.\n",
        "26. De Nederlandse economie groeit harder dan verwacht.\n",
        "27. De Rotterdamse haven is een van de grootste havens ter wereld.\n",
        "28. Het Koninklijk Concertgebouworkest is een van de bekendste orkesten ter wereld.\n",
        "29. De Nederlandse Voedsel- en Warenautoriteit (NVWA) controleert de veiligheid van voedsel en producten.\n",
        "30. Het Nederlands Dans Theater is een van de bekendste moderne dansgezelschappen ter wereld.\n",
        "31. De gemeente Utrecht heeft plannen voor de bouw van nieuwe woningen.\n",
        "32. De Nederlandse wetenschapper Christiaan Huygens was een belangrijke figuur in de ontwikkeling van de natuurkunde.\n",
        "'''"
      ],
      "metadata": {
        "id": "83qqDYdg-Uqd"
      },
      "execution_count": 8,
      "outputs": []
    },
    {
      "cell_type": "markdown",
      "source": [
        "# NLTK pre-trained model to detect the entities"
      ],
      "metadata": {
        "id": "oJJ55C0d-Uqe"
      }
    },
    {
      "cell_type": "code",
      "source": [
        "for sent in nltk.sent_tokenize(output_ne):\n",
        "  for chunk in nltk.ne_chunk(nltk.pos_tag(nltk.word_tokenize(sent))):\n",
        "     if hasattr(chunk, 'label'):\n",
        "        print(chunk.label(), ' '.join(c[0] for c in chunk))\n",
        "get_Usage()"
      ],
      "metadata": {
        "colab": {
          "base_uri": "https://localhost:8080/"
        },
        "id": "aJd2p7wG-Uqe",
        "outputId": "f3a904d5-34e5-41a8-b53c-beb53358546e"
      },
      "execution_count": 9,
      "outputs": [
        {
          "output_type": "stream",
          "name": "stdout",
          "text": [
            "GPE Mijn\n",
            "PERSON Anna\n",
            "GPE Rotterdam\n",
            "GPE De\n",
            "PERSON Gogh\n",
            "GPE Amsterdam\n",
            "GPE Nederland\n",
            "PERSON Het\n",
            "ORGANIZATION Rijksmuseum\n",
            "PERSON De\n",
            "PERSON Johan Cruijff Arena\n",
            "ORGANIZATION Ajax Amsterdam\n",
            "PERSON De\n",
            "PERSON Amsterdam\n",
            "GPE Nederland\n",
            "PERSON Het\n",
            "ORGANIZATION Vondelpark\n",
            "GPE Amsterdam\n",
            "PERSON Het\n",
            "PERSON Anne Frank Huis\n",
            "GPE Amsterdam\n",
            "PERSON De\n",
            "PERSON De\n",
            "PERSON Nederlandse Spoorwegen\n",
            "PERSON De\n",
            "GPE Friesland\n",
            "PERSON De\n",
            "PERSON De\n",
            "GPE Nederland\n",
            "PERSON De\n",
            "GPE Utrecht\n",
            "PERSON Rotterdam\n",
            "PERSON Het\n",
            "ORGANIZATION Rijksinstituut\n",
            "PERSON Volksgezondheid\n",
            "PERSON Milieu\n",
            "PERSON De\n",
            "GPE Kaatsheuvel\n",
            "PERSON De\n",
            "GPE Nederland\n",
            "PERSON De\n",
            "PERSON De\n",
            "PERSON Pisa\n",
            "GPE Italië\n",
            "PERSON De\n",
            "GPE Rotterdam\n",
            "PERSON De\n",
            "GPE Zeeland\n",
            "PERSON De\n",
            "GPE Nederland\n",
            "PERSON Het\n",
            "ORGANIZATION Rijksvastgoedbedrijf\n",
            "PERSON De\n",
            "GPE Rotterdam\n",
            "PERSON De\n",
            "PERSON Het\n",
            "ORGANIZATION Mauritshuis\n",
            "GPE Den Haag\n",
            "PERSON Het\n",
            "ORGANIZATION Centraal\n",
            "PERSON Amsterdam\n",
            "PERSON De\n",
            "GPE Lisse\n",
            "PERSON Het\n",
            "ORGANIZATION Nederlands Openluchtmuseum\n",
            "GPE Arnhem\n",
            "PERSON De\n",
            "GPE Amsterdam\n",
            "PERSON Het\n",
            "PERSON Van Gogh Museum\n",
            "GPE Amsterdam\n",
            "PERSON De\n",
            "GPE Nederland\n",
            "PERSON De\n",
            "GPE Den Bosch\n",
            "PERSON Het\n",
            "ORGANIZATION Tropenmuseum\n",
            "GPE Amsterdam\n",
            "PERSON De\n",
            "PERSON De\n",
            "GPE Amsterdam\n",
            "PERSON De\n",
            "GPE Noord-Holland\n",
            "PERSON De\n",
            "GPE Nederland\n",
            "PERSON Het\n",
            "ORGANIZATION Scheepvaartmuseum\n",
            "GPE Amsterdam\n",
            "PERSON De\n",
            "PERSON Koninklijke Luchtvaart Maatschappij\n",
            "PERSON Het\n",
            "GPE Otterlo\n",
            "PERSON De\n",
            "GPE Nederland\n",
            "GPE De\n",
            "PERSON Amsterdam\n",
            "PERSON Het\n",
            "ORGANIZATION Rijksmuseum\n",
            "GPE Amsterdam\n",
            "PERSON De\n",
            "PERSON Het\n",
            "ORGANIZATION Amsterdamse\n",
            "PERSON De\n",
            "GPE Den Haag\n",
            "PERSON De\n",
            "GPE Nederland\n",
            "PERSON Het\n",
            "ORGANIZATION Vondelpark\n",
            "GPE Amsterdam\n",
            "PERSON De\n",
            "PERSON Johan Cruijff Arena\n",
            "ORGANIZATION Ajax Amsterdam\n",
            "PERSON De\n",
            "PERSON De\n",
            "GPE Rotterdam\n",
            "PERSON Het\n",
            "PERSON De\n",
            "PERSON Amsterdam\n",
            "GPE Nederland\n",
            "PERSON De\n",
            "PERSON Gogh\n",
            "PERSON Het\n",
            "ORGANIZATION Rijksinstituut\n",
            "PERSON Volksgezondheid\n",
            "GPE Milieu\n",
            "ORGANIZATION RIVM\n",
            "GPE Nederland\n",
            "PERSON De\n",
            "GPE Nederland\n",
            "PERSON Het\n",
            "ORGANIZATION Paleis\n",
            "GPE Amsterdam\n",
            "PERSON Het\n",
            "ORGANIZATION Nederlandse\n",
            "PERSON De\n",
            "PERSON De\n",
            "PERSON Het\n",
            "ORGANIZATION Nederlands Openluchtmuseum\n",
            "GPE Arnhem\n",
            "GPE Nederland\n",
            "PERSON De\n",
            "PERSON Het\n",
            "ORGANIZATION Nederlands Elftal\n",
            "GPE België\n",
            "PERSON De\n",
            "PERSON De\n",
            "PERSON Het\n",
            "ORGANIZATION Rijksmuseum\n",
            "GPE Leiden\n",
            "PERSON De\n",
            "PERSON De\n",
            "PERSON Het\n",
            "ORGANIZATION Koninklijk Concertgebouworkest\n",
            "PERSON De\n",
            "ORGANIZATION NVWA\n",
            "PERSON Het\n",
            "ORGANIZATION Nederlands Dans\n",
            "GPE De\n",
            "PERSON Utrecht\n",
            "PERSON De\n",
            "PERSON Christiaan Huygens\n",
            "The CPU % usage : 100.0\n",
            "RAM memory % used: 7.8\n",
            "RAM Used (GB): 0.756187136\n",
            "| ID | GPU | MEM |\n",
            "------------------\n",
            "GPU Used : None\n"
          ]
        }
      ]
    },
    {
      "cell_type": "code",
      "source": [],
      "metadata": {
        "id": "zPW3roxJ-Lqb"
      },
      "execution_count": 9,
      "outputs": []
    },
    {
      "cell_type": "markdown",
      "source": [
        "# Training it on the Conll2002 Esponel dataset "
      ],
      "metadata": {
        "id": "DSdNoyeu4iCR"
      }
    },
    {
      "cell_type": "markdown",
      "source": [
        "# Prepare the training data"
      ],
      "metadata": {
        "id": "EjAbkn9wU7fg"
      }
    },
    {
      "cell_type": "code",
      "source": [
        "train_data_es = conll2002.iob_sents('esp.train') "
      ],
      "metadata": {
        "id": "dTq1yKjlUJLK"
      },
      "execution_count": 10,
      "outputs": []
    },
    {
      "cell_type": "code",
      "source": [
        "def word_features(sentence, i):\n",
        "    word = sentence[i][0]\n",
        "    features = {\n",
        "        'word': word,\n",
        "        'is_first': i == 0,\n",
        "        'is_last': i == len(sentence) - 1,\n",
        "        'is_capitalized': word[0].upper() == word[0],\n",
        "        'is_all_caps': word.upper() == word,\n",
        "        'is_all_lower': word.lower() == word,\n",
        "        'prefix-1': word[0],\n",
        "        'prefix-2': word[:2],\n",
        "        'prefix-3': word[:3],\n",
        "        'suffix-1': word[-1],\n",
        "        'suffix-2': word[-2:],\n",
        "        'suffix-3': word[-3:],\n",
        "        'prev_word': '' if i == 0 else sentence[i-1][0],\n",
        "        'next_word': '' if i == len(sentence)-1 else sentence[i+1][0],\n",
        "        'has_hyphen': '-' in word,\n",
        "        'is_numeric': word.isdigit(),\n",
        "        'capitals_inside': word[1:].lower() != word[1:]\n",
        "    }\n",
        "    for j in range(1, len(sentence[i])):\n",
        "        features[f'pos_tag{j}'] = sentence[i][j]\n",
        "    return features"
      ],
      "metadata": {
        "id": "h-P3CoBLU8TN"
      },
      "execution_count": 11,
      "outputs": []
    },
    {
      "cell_type": "markdown",
      "source": [
        "# Converting the train data into features"
      ],
      "metadata": {
        "id": "afEYDkXxVNyo"
      }
    },
    {
      "cell_type": "code",
      "source": [
        "train_features = []\n",
        "for sentence in train_data_es:\n",
        "    for i in range(len(sentence)):\n",
        "        features = word_features(sentence, i)\n",
        "        ner_tag = sentence[i][-1]\n",
        "        train_features.append((features, ner_tag))"
      ],
      "metadata": {
        "id": "BG8HJTOlVFdN"
      },
      "execution_count": 12,
      "outputs": []
    },
    {
      "cell_type": "markdown",
      "source": [
        "# Training the classifier"
      ],
      "metadata": {
        "id": "w2GHFUe5WG03"
      }
    },
    {
      "cell_type": "markdown",
      "source": [],
      "metadata": {
        "id": "U2U4c-s-WX_l"
      }
    },
    {
      "cell_type": "code",
      "source": [
        "classifier = nltk.MaxentClassifier.train(train_features, max_iter=5) #max_iter= 50"
      ],
      "metadata": {
        "colab": {
          "base_uri": "https://localhost:8080/"
        },
        "id": "nyfRlmDrVt3N",
        "outputId": "6977ac8e-38c7-459d-b4dc-43a2075bcf1b"
      },
      "execution_count": 13,
      "outputs": [
        {
          "output_type": "stream",
          "name": "stdout",
          "text": [
            "  ==> Training (5 iterations)\n",
            "\n",
            "      Iteration    Log Likelihood    Accuracy\n",
            "      ---------------------------------------\n",
            "             1          -2.19722        0.876\n",
            "             2          -0.18758        0.880\n",
            "             3          -0.15540        0.905\n",
            "             4          -0.13231        0.941\n",
            "         Final          -0.11664        0.959\n"
          ]
        }
      ]
    },
    {
      "cell_type": "code",
      "source": [
        "# # Train the classifier with early stopping\n",
        "# prev_dev_acc = 0.0\n",
        "# dev_acc_streak = 0\n",
        "# max_dev_acc_streak = 3  # number of iterations with no improvement on dev set to tolerate\n",
        "# for i in range(5):  # maximum number of iterations\n",
        "#     classifier = nltk.MaxentClassifier.train(train_features, max_iter=1, trace=0)\n",
        "#     dev_acc = nltk.classify.accuracy(classifier, dev_set)\n",
        "#     print(f\"iteration {i+1}: dev set accuracy = {dev_acc:.4f}\")\n",
        "#     if dev_acc <= prev_dev_acc:\n",
        "#         dev_acc_streak += 1\n",
        "#         if dev_acc_streak >= max_dev_acc_streak:\n",
        "#             print(f\"Early stopping at iteration {i+1}\")\n",
        "#             break\n",
        "#     else:\n",
        "#         dev_acc_streak = 0\n",
        "#     prev_dev_acc = dev_acc"
      ],
      "metadata": {
        "id": "YpcrhiupfQJ8"
      },
      "execution_count": 14,
      "outputs": []
    },
    {
      "cell_type": "markdown",
      "source": [
        "# Dumping the model to a file"
      ],
      "metadata": {
        "id": "NUmF4QwfWPE_"
      }
    },
    {
      "cell_type": "code",
      "source": [
        "import pickle\n",
        "# Save the model to a file\n",
        "with open('my_Esp_ner_model.pickle', 'wb') as f:\n",
        "    pickle.dump(classifier, f)"
      ],
      "metadata": {
        "id": "f_Y-pvfaV35S"
      },
      "execution_count": 15,
      "outputs": []
    },
    {
      "cell_type": "markdown",
      "source": [
        "# Testing the dumpped model"
      ],
      "metadata": {
        "id": "jAl6m5hQWZFH"
      }
    },
    {
      "cell_type": "code",
      "source": [
        "# Test the model\n",
        "test_data_es = conll2002.iob_sents('esp.testa')\n",
        "test_set = []\n",
        "for sentence in test_data_es:\n",
        "    sent_features = []\n",
        "    for i in range(len(sentence)):\n",
        "        sent_features.append((word_features(sentence, i), sentence[i][2]))\n",
        "    test_set += sent_features\n",
        "print(nltk.classify.accuracy(classifier, test_set))"
      ],
      "metadata": {
        "colab": {
          "base_uri": "https://localhost:8080/"
        },
        "id": "yESYTH0yrq7s",
        "outputId": "ebcb9ef8-907b-4694-eb43-3bd154969e69"
      },
      "execution_count": 16,
      "outputs": [
        {
          "output_type": "stream",
          "name": "stdout",
          "text": [
            "0.9302949568240652\n"
          ]
        }
      ]
    },
    {
      "cell_type": "markdown",
      "source": [
        "# Extraction of the entites from the text\n"
      ],
      "metadata": {
        "id": "Qy0M3yAjWjRt"
      }
    },
    {
      "cell_type": "code",
      "source": [
        "tokens = nltk.word_tokenize(output_es)\n",
        "tags = nltk.pos_tag(tokens)\n",
        "chunked_tags = nltk.ne_chunk(tags)\n",
        "for subtree in chunked_tags:\n",
        "    if hasattr(subtree, 'label') and subtree.label() in ['PERSON', 'ORGANIZATION', 'GPE']:\n",
        "        print(subtree.label(), ' '.join(word for word, tag in subtree.leaves()))"
      ],
      "metadata": {
        "colab": {
          "base_uri": "https://localhost:8080/"
        },
        "id": "r-ihXBStWfPM",
        "outputId": "08e1cb5a-a628-4bda-88de-9e2dc327956e"
      },
      "execution_count": 17,
      "outputs": [
        {
          "output_type": "stream",
          "name": "stdout",
          "text": [
            "PERSON Pedro Sánchez\n",
            "GPE Spanish\n",
            "PERSON Pedro Sánchez\n",
            "PERSON Lionel Messi\n",
            "PERSON Balón\n",
            "GPE Argentine\n",
            "PERSON Lionel Messi\n",
            "GPE Ballon\n",
            "PERSON Barcelona\n",
            "PERSON Antoni Gaudí\n",
            "GPE Barcelona\n",
            "PERSON Antoni Gaudí\n",
            "PERSON Penélope Cruz\n",
            "GPE Hollywood\n",
            "GPE Spanish\n",
            "PERSON Penélope Cruz\n",
            "PERSON Gabriel García Márquez\n",
            "GPE Colombian\n",
            "PERSON Gabriel García Márquez\n",
            "GPE Solitude\n",
            "PERSON Bad Bunny\n",
            "PERSON Grammy Latinos\n",
            "GPE Puerto Rican\n",
            "PERSON Bad Bunny\n",
            "PERSON Latin Grammy Awards\n",
            "PERSON Santiago Bernabéu\n",
            "ORGANIZATION Real Madrid\n",
            "ORGANIZATION Santiago Bernabeu Stadium\n",
            "GPE Spanish\n",
            "ORGANIZATION Real Madrid\n",
            "PERSON Frida Kahlo\n",
            "GPE Mexican\n",
            "PERSON Frida Kahlo\n",
            "PERSON Antonio Banderas\n",
            "PERSON Goya\n",
            "GPE Spanish\n",
            "PERSON Antonio Banderas\n",
            "PERSON Río\n",
            "PERSON Janeiro\n",
            "PERSON Brasil\n",
            "PERSON Copacabana Beach\n",
            "GPE Rio\n",
            "PERSON Janeiro\n",
            "GPE Brazil\n",
            "PERSON Carlos Santana\n",
            "GPE Mexican\n",
            "PERSON Carlos Santana\n",
            "GPE Latin\n",
            "GPE Seville\n",
            "PERSON Enrique Iglesias\n",
            "GPE Spanish\n",
            "PERSON Enrique Iglesias\n",
            "PERSON Isabel Allende\n",
            "GPE Chilean\n",
            "PERSON Isabel Allende\n",
            "PERSON España\n",
            "GPE Spain\n",
            "PERSON Gael García Bernal\n",
            "PERSON Rocky\n",
            "PERSON Barcelona\n",
            "ORGANIZATION Amazonas\n",
            "PERSON Esta\n",
            "PERSON Las\n",
            "PERSON La\n",
            "PERSON Los\n",
            "PERSON España\n",
            "PERSON España\n",
            "PERSON Santiago\n",
            "ORGANIZATION Compostela\n",
            "PERSON Los\n",
            "PERSON Los\n",
            "PERSON La Alhambra\n",
            "GPE Granada\n",
            "PERSON La Torre Eiffel\n",
            "PERSON Los\n",
            "PERSON La Semana Santa\n",
            "GPE España\n",
            "PERSON Los\n",
            "PERSON El Museo\n",
            "GPE Madrid\n",
            "PERSON Las\n",
            "PERSON El Greco\n",
            "ORGANIZATION XVI\n",
            "PERSON Los\n",
            "PERSON La\n",
            "PERSON Las\n",
            "PERSON El Palacio Real\n",
            "GPE Madrid\n",
            "PERSON España\n"
          ]
        }
      ]
    },
    {
      "cell_type": "markdown",
      "source": [
        "# Training the data on the Conll2002 Dutch dataset"
      ],
      "metadata": {
        "id": "FEd5xSrfXD5n"
      }
    },
    {
      "cell_type": "code",
      "source": [
        "train_data_ned = conll2002.iob_sents('ned.train') "
      ],
      "metadata": {
        "id": "ni9zVn3G-Ti5"
      },
      "execution_count": 18,
      "outputs": []
    },
    {
      "cell_type": "code",
      "source": [
        "def word_features(sentence, i):\n",
        "    word = sentence[i][0]\n",
        "    features = {\n",
        "        'word': word,\n",
        "        'is_first': i == 0,\n",
        "        'is_last': i == len(sentence) - 1,\n",
        "        'is_capitalized': word[0].upper() == word[0],\n",
        "        'is_all_caps': word.upper() == word,\n",
        "        'is_all_lower': word.lower() == word,\n",
        "        'prefix-1': word[0],\n",
        "        'prefix-2': word[:2],\n",
        "        'prefix-3': word[:3],\n",
        "        'suffix-1': word[-1],\n",
        "        'suffix-2': word[-2:],\n",
        "        'suffix-3': word[-3:],\n",
        "        'prev_word': '' if i == 0 else sentence[i-1][0],\n",
        "        'next_word': '' if i == len(sentence)-1 else sentence[i+1][0],\n",
        "        'has_hyphen': '-' in word,\n",
        "        'is_numeric': word.isdigit(),\n",
        "        'capitals_inside': word[1:].lower() != word[1:]\n",
        "    }\n",
        "    for j in range(1, len(sentence[i])):\n",
        "        features[f'pos_tag{j}'] = sentence[i][j]\n",
        "    return features"
      ],
      "metadata": {
        "id": "QZqxo52btMrh"
      },
      "execution_count": 19,
      "outputs": []
    },
    {
      "cell_type": "markdown",
      "source": [
        "# Converting the train data into features"
      ],
      "metadata": {
        "id": "j5X4CXlf6mBE"
      }
    },
    {
      "cell_type": "code",
      "source": [
        "train_features = []\n",
        "for sentence in train_data_ned:\n",
        "    for i in range(len(sentence)):\n",
        "        features = word_features(sentence, i)\n",
        "        ner_tag = sentence[i][-1]\n",
        "        train_features.append((features, ner_tag))\n"
      ],
      "metadata": {
        "id": "JHop8kuQsxCt"
      },
      "execution_count": 20,
      "outputs": []
    },
    {
      "cell_type": "markdown",
      "source": [
        "# Converting the train data into features"
      ],
      "metadata": {
        "id": "H4AHY8f26ryz"
      }
    },
    {
      "cell_type": "code",
      "source": [
        "classifier = nltk.MaxentClassifier.train(train_features, max_iter=5)\n"
      ],
      "metadata": {
        "colab": {
          "base_uri": "https://localhost:8080/"
        },
        "id": "U6Ne5mV_szBC",
        "outputId": "5793d062-74fb-4895-d327-db0fbc70d148"
      },
      "execution_count": 21,
      "outputs": [
        {
          "output_type": "stream",
          "name": "stdout",
          "text": [
            "  ==> Training (5 iterations)\n",
            "\n",
            "      Iteration    Log Likelihood    Accuracy\n",
            "      ---------------------------------------\n",
            "             1          -2.19722        0.905\n",
            "             2          -0.13587        0.905\n",
            "             3          -0.11120        0.925\n",
            "             4          -0.09225        0.958\n",
            "         Final          -0.07952        0.975\n"
          ]
        }
      ]
    },
    {
      "cell_type": "markdown",
      "source": [
        "# Dumping the model to a file"
      ],
      "metadata": {
        "id": "xOhc-DhJ68Rx"
      }
    },
    {
      "cell_type": "code",
      "source": [
        "import pickle\n",
        "# Save the model to a file\n",
        "with open('my_Ned_ner_model.pickle', 'wb') as f:\n",
        "    pickle.dump(classifier, f)"
      ],
      "metadata": {
        "id": "rKvg9aEutS3Y"
      },
      "execution_count": 22,
      "outputs": []
    },
    {
      "cell_type": "markdown",
      "source": [
        "# Testing the dumpped model"
      ],
      "metadata": {
        "id": "SPljyo8l64ZE"
      }
    },
    {
      "cell_type": "code",
      "source": [
        "test_data_ned = conll2002.iob_sents('ned.testa')\n",
        "test_set = []\n",
        "for sentence in test_data_ned:\n",
        "    sent_features = []\n",
        "    for i in range(len(sentence)):\n",
        "        sent_features.append((word_features(sentence, i), sentence[i][2]))\n",
        "    test_set += sent_features\n",
        "print(nltk.classify.accuracy(classifier, test_set))"
      ],
      "metadata": {
        "colab": {
          "base_uri": "https://localhost:8080/"
        },
        "id": "lSmJHWYruLSI",
        "outputId": "fca8baa0-3bd1-4b56-fe2d-774fe4fab00c"
      },
      "execution_count": 23,
      "outputs": [
        {
          "output_type": "stream",
          "name": "stdout",
          "text": [
            "0.9473293178018946\n"
          ]
        }
      ]
    },
    {
      "cell_type": "markdown",
      "source": [
        "# Extraction of the entites from the text\n"
      ],
      "metadata": {
        "id": "d_k6wQQ96_KE"
      }
    },
    {
      "cell_type": "code",
      "source": [
        "tokens = nltk.word_tokenize(output_ne)\n",
        "tags = nltk.pos_tag(tokens)\n",
        "chunked_tags = nltk.ne_chunk(tags)\n",
        "for subtree in chunked_tags:\n",
        "    if hasattr(subtree, 'label') and subtree.label() in ['PERSON', 'ORGANIZATION', 'GPE']:\n",
        "        print(subtree.label(), ' '.join(word for word, tag in subtree.leaves()))\n",
        "get_Usage()"
      ],
      "metadata": {
        "colab": {
          "base_uri": "https://localhost:8080/"
        },
        "id": "fkiLzmGYwSou",
        "outputId": "0415f51a-4078-428a-f76b-ef69e0589579"
      },
      "execution_count": 24,
      "outputs": [
        {
          "output_type": "stream",
          "name": "stdout",
          "text": [
            "PERSON Mijn\n",
            "PERSON Anna\n",
            "GPE Rotterdam\n",
            "PERSON De\n",
            "PERSON Gogh\n",
            "PERSON Amsterdam\n",
            "GPE Nederland\n",
            "PERSON Het Rijksmuseum\n",
            "PERSON De Johan Cruijff Arena\n",
            "ORGANIZATION Ajax Amsterdam\n",
            "PERSON De Universiteit\n",
            "PERSON Amsterdam\n",
            "GPE Nederland\n",
            "PERSON Het Vondelpark\n",
            "GPE Amsterdam\n",
            "PERSON Het Anne Frank Huis\n",
            "GPE Amsterdam\n",
            "PERSON De Nederlandse\n",
            "PERSON De NS\n",
            "PERSON Nederlandse Spoorwegen\n",
            "PERSON De Elfstedentocht\n",
            "GPE Friesland\n",
            "PERSON De Technische Universiteit Delft\n",
            "PERSON De Maas\n",
            "GPE Nederland\n",
            "PERSON De Domtoren\n",
            "GPE Utrecht\n",
            "PERSON Rotterdam\n",
            "PERSON Het Rijksinstituut\n",
            "PERSON Volksgezondheid\n",
            "PERSON Milieu\n",
            "PERSON De Efteling\n",
            "GPE Kaatsheuvel\n",
            "PERSON De Nederlandse Bank\n",
            "GPE Nederland\n",
            "PERSON De Utrechtse Heuvelrug\n",
            "PERSON De Toren\n",
            "PERSON Pisa\n",
            "GPE Italië\n",
            "PERSON De Erasmus Universiteit\n",
            "GPE Rotterdam\n",
            "PERSON De Deltawerken\n",
            "GPE Zeeland\n",
            "PERSON De Waddenzee\n",
            "GPE Nederland\n",
            "PERSON Het Rijksvastgoedbedrijf\n",
            "PERSON De Euromast\n",
            "GPE Rotterdam\n",
            "PERSON De Zeeuwse\n",
            "PERSON Het Mauritshuis\n",
            "GPE Den Haag\n",
            "PERSON Het Centraal\n",
            "PERSON Amsterdam\n",
            "PERSON De Keukenhof\n",
            "GPE Lisse\n",
            "PERSON Het Nederlands Openluchtmuseum\n",
            "GPE Arnhem\n",
            "PERSON De Oude Kerk\n",
            "GPE Amsterdam\n",
            "PERSON Het Van Gogh Museum\n",
            "GPE Amsterdam\n",
            "PERSON De Nederlandse Spoorwegen\n",
            "GPE Nederland\n",
            "PERSON De\n",
            "GPE Den Bosch\n",
            "PERSON Het Tropenmuseum\n",
            "GPE Amsterdam\n",
            "PERSON De Tweede Kamer\n",
            "PERSON De Waag\n",
            "GPE Amsterdam\n",
            "PERSON De Beemster\n",
            "GPE Noord-Holland\n",
            "PERSON De IJssel\n",
            "GPE Nederland\n",
            "PERSON Het Scheepvaartmuseum\n",
            "GPE Amsterdam\n",
            "PERSON De KLM\n",
            "PERSON Koninklijke Luchtvaart Maatschappij\n",
            "PERSON Het\n",
            "GPE Otterlo\n",
            "PERSON De Kinderdijkse\n",
            "GPE Nederland\n",
            "PERSON De\n",
            "PERSON Amsterdam\n",
            "PERSON Het Rijksmuseum\n",
            "GPE Amsterdam\n",
            "PERSON De Nederlandse\n",
            "PERSON Het Amsterdamse\n",
            "PERSON De Koninklijke Bibliotheek\n",
            "GPE Den Haag\n",
            "PERSON De ANWB\n",
            "GPE Nederland\n",
            "PERSON Het Vondelpark\n",
            "GPE Amsterdam\n",
            "PERSON De Johan Cruijff Arena\n",
            "ORGANIZATION Ajax Amsterdam\n",
            "PERSON De Nederlandse\n",
            "PERSON De Erasmusbrug\n",
            "GPE Rotterdam\n",
            "PERSON Het Nederlandse\n",
            "PERSON De Universiteit\n",
            "PERSON Amsterdam\n",
            "GPE Nederland\n",
            "PERSON De Nederlandse\n",
            "PERSON Gogh\n",
            "PERSON Het Rijksinstituut\n",
            "PERSON Volksgezondheid\n",
            "GPE Milieu\n",
            "ORGANIZATION RIVM\n",
            "GPE Nederland\n",
            "PERSON De Nederlandsche Bank\n",
            "GPE Nederland\n",
            "PERSON Het Paleis\n",
            "GPE Amsterdam\n",
            "PERSON Het Nederlandse\n",
            "PERSON De Nederlandse\n",
            "PERSON De Nederlandse\n",
            "PERSON Het Nederlands Openluchtmuseum\n",
            "GPE Arnhem\n",
            "GPE Nederland\n",
            "PERSON De Nederlandse\n",
            "PERSON Het Nederlands Elftal\n",
            "GPE België\n",
            "PERSON De Nederlandse\n",
            "PERSON De Nederlandse\n",
            "PERSON Het Rijksmuseum\n",
            "GPE Leiden\n",
            "PERSON De Nederlandse\n",
            "PERSON De Rotterdamse\n",
            "PERSON Het Koninklijk Concertgebouworkest\n",
            "PERSON De Nederlandse\n",
            "ORGANIZATION NVWA\n",
            "ORGANIZATION Het Nederlands Dans\n",
            "PERSON De\n",
            "PERSON Utrecht\n",
            "PERSON De Nederlandse\n",
            "PERSON Christiaan Huygens\n"
          ]
        }
      ]
    }
  ]
}